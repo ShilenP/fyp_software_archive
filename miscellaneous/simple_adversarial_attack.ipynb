{
 "cells": [
  {
   "cell_type": "code",
   "execution_count": 1,
   "metadata": {},
   "outputs": [],
   "source": [
    "import torch.nn.functional as F\n",
    "from torchvision import transforms\n",
    "from torch.utils.data import DataLoader\n",
    "import numpy as np\n",
    "import torch\n",
    "from torch.optim import Adam, SGD\n",
    "from torch import nn\n",
    "from torchvision.transforms import Compose\n",
    "import matplotlib.pyplot as plt\n",
    "import torchvision.datasets as datasets"
   ]
  },
  {
   "cell_type": "code",
   "execution_count": 2,
   "metadata": {},
   "outputs": [],
   "source": [
    "device = torch.device(\"cuda\" if torch.cuda.is_available() else \"cpu\")\n",
    "torch.manual_seed(1)\n",
    "np.random.seed(1)\n",
    "torch.cuda.manual_seed(1)"
   ]
  },
  {
   "cell_type": "code",
   "execution_count": 3,
   "metadata": {},
   "outputs": [],
   "source": [
    "transform = Compose([transforms.ToTensor(), transforms.Normalize((0.5,), (0.5,))])\n",
    "mnist_path = \"./mnist_data\"\n",
    "mnist_trainset = datasets.MNIST(root=mnist_path, train=True, download=True, transform=transform)\n",
    "mnist_testset = datasets.MNIST(root=mnist_path, train=False, download=True, transform=transform)\n",
    "train_loader = DataLoader(mnist_trainset, batch_size=64, shuffle=True)\n",
    "test_loader = DataLoader(mnist_testset, batch_size=64, shuffle=False)"
   ]
  },
  {
   "cell_type": "code",
   "execution_count": 4,
   "metadata": {},
   "outputs": [],
   "source": [
    "class Network(nn.Module):\n",
    "    def __init__(self):\n",
    "        super(Network, self).__init__()\n",
    "        self.conv1 = nn.Conv2d(1, 32, 3, 1)\n",
    "        self.conv2 = nn.Conv2d(32, 64, 3, 1)\n",
    "        self.fc1 = nn.Linear(64 * 5 * 5, 128)\n",
    "        self.fc2 = nn.Linear(128, 10)\n",
    "    \n",
    "    def forward(self, x):\n",
    "        x = F.relu(self.conv1(x))\n",
    "        x = F.max_pool2d(x, 2, 2)\n",
    "        x = F.relu(self.conv2(x))\n",
    "        x = F.max_pool2d(x, 2, 2)\n",
    "        x = x.view(-1, 64 * 5 * 5)\n",
    "        x = F.relu(self.fc1(x))\n",
    "        x = self.fc2(x)\n",
    "        return x"
   ]
  },
  {
   "cell_type": "code",
   "execution_count": 5,
   "metadata": {},
   "outputs": [
    {
     "name": "stdout",
     "output_type": "stream",
     "text": [
      "Epoch 0, Accuracy 0.9823\n",
      "Epoch 1, Accuracy 0.9845\n",
      "Epoch 2, Accuracy 0.9891\n"
     ]
    }
   ],
   "source": [
    "model = Network().to(device)\n",
    "optimizer = Adam(model.parameters(), lr=0.0005)\n",
    "torch.random.manual_seed(1)\n",
    "np.random.seed(1)\n",
    "torch.cuda.manual_seed(1)\n",
    "for epoch in range(3):\n",
    "    model.train()\n",
    "    for i, (x, y) in enumerate(train_loader):\n",
    "        x, y = x.to(device), y.to(device)\n",
    "        optimizer.zero_grad()\n",
    "        y_pred = model(x)\n",
    "        loss_robust = F.cross_entropy(y_pred, y)\n",
    "        loss_robust.backward()\n",
    "        optimizer.step()\n",
    "        if (i + 1 % 500) == 0:\n",
    "            print(f\"Epoch {epoch}, Iteration {i}, Loss {loss_robust.item()}\")\n",
    "\n",
    "    model.eval()\n",
    "    correct = 0\n",
    "    total = 0\n",
    "    with torch.no_grad():\n",
    "        for i, (x, y) in enumerate(test_loader):\n",
    "            x, y = x.to(device), y.to(device)\n",
    "            y_pred = model(x)\n",
    "            _, predicted = torch.max(y_pred.data, 1)\n",
    "            total += y.size(0)\n",
    "            correct += (predicted == y).sum().item()\n",
    "    print(f\"Epoch {epoch}, Accuracy {correct / total}\")"
   ]
  },
  {
   "cell_type": "code",
   "execution_count": 6,
   "metadata": {},
   "outputs": [
    {
     "name": "stdout",
     "output_type": "stream",
     "text": [
      "Accuracy: 0.9891\n"
     ]
    }
   ],
   "source": [
    "model = model.eval()\n",
    "correct = 0\n",
    "total = 0\n",
    "for x, y in test_loader:\n",
    "    x, y = x.to(device), y.to(device)\n",
    "    y_pred = model(x)\n",
    "    _, predicted = torch.max(y_pred.data, 1)\n",
    "    total += y.size(0)\n",
    "    correct += (predicted == y).sum().item()\n",
    "\n",
    "print('Accuracy:', correct / total)"
   ]
  },
  {
   "cell_type": "code",
   "execution_count": 7,
   "metadata": {},
   "outputs": [],
   "source": [
    "def tweak_input(learning_rate, image, model, verbose=True):\n",
    "    \"\"\"\n",
    "    Performs gradient ascent to maximize the activations of a given layer.\n",
    "    \n",
    "    Args:\n",
    "    - n_iterations: the number of iterations to perform\n",
    "    - learning_rate: the learning rate of the optimizer\n",
    "    - image: the image to optimize\n",
    "    - model: the model to use\n",
    "    - layer: the layer from which to extract the activations\n",
    "    \n",
    "    Returns:\n",
    "    - image: the enhanced image\n",
    "    \"\"\"\n",
    "    model = model.eval()\n",
    "    res = model(image)\n",
    "    _, top2 = res.topk(2)[1][0]\n",
    "    image.requires_grad = True\n",
    "    iter_count = 0\n",
    "    optimizer = SGD([image], lr=learning_rate)\n",
    "    while True:\n",
    "        if iter_count > 20_000:\n",
    "            print(\"Failed to converge\")\n",
    "            break\n",
    "        # if image.grad is not None:\n",
    "        #     image.grad.zero_()   \n",
    "        optimizer.zero_grad()     \n",
    "        res = model(image)\n",
    "        loss = -res[0, top2]\n",
    "        new_top1, _ = res.topk(2)[1][0]\n",
    "        if new_top1 == top2:\n",
    "            # print(\"Took:\", iter_count, \"iterations\")\n",
    "            break\n",
    "        loss.backward()\n",
    "        optimizer.step()\n",
    "        # with torch.no_grad():\n",
    "        #     image.grad /= torch.abs(image.grad).mean()\n",
    "        #     image += learning_rate * image.grad\n",
    "        if i % 20 == 0 and verbose:\n",
    "            print(f\"Iteration {i}, Loss: {loss.item()}\")\n",
    "        iter_count += 1\n",
    "    return image.detach(), iter_count"
   ]
  },
  {
   "cell_type": "code",
   "execution_count": 8,
   "metadata": {},
   "outputs": [
    {
     "name": "stdout",
     "output_type": "stream",
     "text": [
      "Previous Pred: 9\n",
      "Perturbed_pred: 7\n"
     ]
    },
    {
     "data": {
      "image/png": "[encoded data removed]",
      "text/plain": [
       "<Figure size 1000x500 with 3 Axes>"
      ]
     },
     "metadata": {},
     "output_type": "display_data"
    }
   ],
   "source": [
    "layers = [(n, l) for n, l in model.named_children()]\n",
    "model = model.eval()\n",
    "show = 1\n",
    "torch.random.manual_seed(8)\n",
    "for x, y in train_loader:\n",
    "    x = x.to(device)\n",
    "    if show == 0:\n",
    "        break\n",
    "    imgs = x[0]\n",
    "    res_robust = model(imgs.unsqueeze(0))\n",
    "    top1, top2 = res_robust.topk(2)[1][0]\n",
    "\n",
    "    print('Previous Pred:', top1.item())\n",
    "    images = imgs.unsqueeze(0).clone()\n",
    "\n",
    "    enhanced_images, _ = tweak_input(learning_rate=0.005, image=images, model=model, verbose=False)\n",
    "    res_robust = model(enhanced_images)\n",
    "    top1, top2 = res_robust.topk(2)[1][0]\n",
    "    print('Perturbed_pred:', top1.item())\n",
    "    # Convert the tensor to a displayable image\n",
    "    enhanced_image_np = enhanced_images.cpu().squeeze().numpy()\n",
    "    # enhanced_image_np = np.clip(enhanced_image_np, 0, 1)\n",
    "    fig, axes = plt.subplots(1, 3, figsize=(10, 5))\n",
    "    axes[0].imshow(imgs.cpu().squeeze().numpy(), cmap=\"gray\")\n",
    "    axes[0].set_title(\"Original Image\")\n",
    "    axes[0].axis(\"off\")\n",
    "    axes[1].imshow(imgs.cpu().squeeze().numpy() - enhanced_image_np, cmap=\"gray\")\n",
    "    axes[1].set_title(\"Perturbation\")\n",
    "    axes[1].axis(\"off\")\n",
    "    axes[2].imshow(enhanced_image_np, cmap=\"gray\")\n",
    "    axes[2].set_title(\"Perturbed Image\")\n",
    "    axes[2].axis(\"off\")\n",
    "    # plt.savefig('adversarial_attack.png', bbox_inches='tight')\n",
    "    plt.show()\n",
    "    show -= 1\n",
    "    if show == 0:\n",
    "        break"
   ]
  }
 ],
 "metadata": {
  "kernelspec": {
   "display_name": "Python 3 (ipykernel)",
   "language": "python",
   "name": "python3"
  },
  "language_info": {
   "codemirror_mode": {
    "name": "ipython",
    "version": 3
   },
   "file_extension": ".py",
   "mimetype": "text/x-python",
   "name": "python",
   "nbconvert_exporter": "python",
   "pygments_lexer": "ipython3",
   "version": "3.10.12"
  }
 },
 "nbformat": 4,
 "nbformat_minor": 2
}
